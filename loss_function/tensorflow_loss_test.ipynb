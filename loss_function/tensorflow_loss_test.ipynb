{
 "cells": [
  {
   "cell_type": "code",
   "execution_count": 1,
   "metadata": {
    "collapsed": true
   },
   "outputs": [],
   "source": [
    "import pandas as pd\n",
    "\n",
    "mnist_train = pd.read_csv('../data/mnist_train.csv',header=None)\n",
    "mnist_test = pd.read_csv('../data/mnist_test.csv',header=None)"
   ]
  },
  {
   "cell_type": "code",
   "execution_count": 2,
   "metadata": {},
   "outputs": [
    {
     "name": "stdout",
     "output_type": "stream",
     "text": [
      "X_train: (60000, 784)\n",
      "y_train: (60000,)\n",
      "X_test: (10000, 784)\n",
      "y_test: (10000,)\n"
     ]
    }
   ],
   "source": [
    "mnist_train.head()\n",
    "X_train=mnist_train.loc[:,1:].values\n",
    "y_train=mnist_train.loc[:,0].values\n",
    "X_test=mnist_test.loc[:,1:].values\n",
    "y_test=mnist_test.loc[:,0].values\n",
    "\n",
    "X_train=X_train/255.\n",
    "X_test=X_test/255.\n",
    "\n",
    "print('X_train:',X_train.shape)\n",
    "print('y_train:',y_train.shape)\n",
    "print('X_test:',X_test.shape)\n",
    "print('y_test:',y_test.shape)"
   ]
  },
  {
   "cell_type": "code",
   "execution_count": 3,
   "metadata": {},
   "outputs": [
    {
     "name": "stderr",
     "output_type": "stream",
     "text": [
      "/anaconda3/lib/python3.6/importlib/_bootstrap.py:219: RuntimeWarning: compiletime version 3.5 of module 'tensorflow.python.framework.fast_tensor_util' does not match runtime version 3.6\n",
      "  return f(*args, **kwds)\n"
     ]
    }
   ],
   "source": [
    "import tensorflow as tf\n",
    "sess = tf.InteractiveSession()\n",
    "\n",
    "inputs = tf.placeholder(tf.float32, [None, 784])\n",
    "inputs_reshaped = tf.reshape(inputs, (-1,28,28,1))\n",
    "y = tf.placeholder(tf.int64, [None, 1])\n",
    "y_onehot = tf.one_hot(y, 10)\n",
    "n_class=10\n",
    "n_feature=512\n",
    "# 构建中心\n",
    "with tf.variable_scope('center'):\n",
    "    centers = tf.get_variable('centers', [n_class, n_feature], dtype=tf.float32,\\\n",
    "                              initializer=tf.constant_initializer(0), trainable=False)"
   ]
  },
  {
   "cell_type": "code",
   "execution_count": 4,
   "metadata": {
    "collapsed": true
   },
   "outputs": [],
   "source": [
    "# 定义模型，复杂loss\n",
    "from tensorflow.contrib.keras import layers\n",
    "\n",
    "def VGG6(inputs, n_class=10, return_feature=False):\n",
    "    # Block 1\n",
    "    x = layers.Conv2D(32, (3, 3), activation='relu', padding='same', name='block1_conv1')(inputs)\n",
    "    x = layers.Conv2D(32, (3, 3), activation='relu', padding='same', name='block1_conv2')(x)\n",
    "    x = layers.MaxPooling2D((2, 2), strides=(2, 2), name='block1_pool')(x)\n",
    "\n",
    "    # Block 2\n",
    "    x = layers.Conv2D(64, (3, 3), activation='relu', padding='same', name='block2_conv1')(x)\n",
    "    x = layers.Conv2D(64, (3, 3), activation='relu', padding='same', name='block2_conv2')(x)\n",
    "    x = layers.MaxPooling2D((2, 2), strides=(2, 2), name='block2_pool')(x)\n",
    "\n",
    "    x = layers.Flatten(name='flatten')(x)\n",
    "    x = layers.Dense(512, activation='relu', name='fc1')(x)\n",
    "    features = layers.Dense(512, activation='relu', name='fc2')(x)\n",
    "    outputs = layers.Dense(n_class, activation='softmax', name='predictions')(features)\n",
    "    \n",
    "    if return_feature:\n",
    "        return outputs, features\n",
    "    else:\n",
    "        return outputs\n",
    "    \n",
    "def center_loss(features, label, alpha, nrof_classes):\n",
    "    \"\"\"Center loss based on the paper \"A Discriminative Feature Learning Approach for Deep Face Recognition\"\n",
    "       (http://ydwen.github.io/papers/WenECCV16.pdf)\n",
    "    \"\"\"\n",
    "    # 生成可以共享的变量centers\n",
    "    with tf.variable_scope('center', reuse=True):\n",
    "        centers = tf.get_variable('centers')\n",
    "    label = tf.reshape(label, [-1])\n",
    "\n",
    "    # 取出对应label下对应的center值，注意label里面的值可能会重复，因为一个标签下有可能会出现多个人\n",
    "    centers_batch = tf.gather(centers, label)\n",
    "\n",
    "    # 求特征点到中心的距离并乘以一定的系数，alfa是center的更新速度，越大代表更新的越慢\n",
    "    diff = centers_batch - features\n",
    "\n",
    "    # 获取一个batch中同一样本出现的次数，这里需要理解论文中的更新公式\n",
    "    unique_label, unique_idx, unique_count = tf.unique_with_counts(label)\n",
    "    appear_times = tf.gather(unique_count, unique_idx)\n",
    "    appear_times = tf.reshape(appear_times, [-1, 1])\n",
    "\n",
    "    diff = diff / tf.cast((1 + appear_times), tf.float32)\n",
    "    diff = alpha * diff\n",
    "\n",
    "    # 更新center，输出是将对应于label的centers减去对应的diff，如果同一个标签出现多次，那么就减去多次\n",
    "    centers = tf.scatter_sub(centers, label, diff)\n",
    "\n",
    "    # 求center loss，这里是将l2_loss里面的值进行平方相加，再除以2，并没有进行开方\n",
    "    loss = tf.nn.l2_loss(features - centers_batch)\n",
    "    \n",
    "    return loss, centers\n",
    "\n",
    "def island_loss(features, label, alpha, nrof_classes, nrof_features, lamda1=10):\n",
    "    \"\"\"Center loss based on the paper \"Island Loss for Learning Discriminative Features in Facial Expression Recognition\"\n",
    "       (https://github.com/SeriaZheng/EmoNet/blob/master/loss_function/loss_paper/Island_loss.pdf)\n",
    "    \"\"\"\n",
    "    # 生成可以共享的变量centers\n",
    "    with tf.variable_scope('center', reuse=True):\n",
    "        centers = tf.get_variable('centers')\n",
    "    label = tf.reshape(label, [-1])\n",
    "\n",
    "    # 取出对应label下对应的center值，注意label里面的值可能会重复，因为一个标签下有可能会出现多个人\n",
    "    centers_batch = tf.gather(centers, label)\n",
    "\n",
    "    # 求特征点到中心的距离并乘以一定的系数，diff1为center loss\n",
    "    diff1 = centers_batch - features\n",
    "\n",
    "    # 获取一个batch中同一样本出现的次数，这里需要理解论文中的更新公式\n",
    "    unique_label, unique_idx, unique_count = tf.unique_with_counts(label)\n",
    "    appear_times = tf.gather(unique_count, unique_idx)\n",
    "    appear_times = tf.reshape(appear_times, [-1, 1])\n",
    "\n",
    "    diff1 = diff1 / tf.cast((1 + appear_times), tf.float32)\n",
    "    diff1 = alpha * diff1\n",
    "\n",
    "    # diff2为island loss的center更新项\n",
    "    diff2 = tf.get_variable('diff2', [nrof_classes, nrof_features], dtype=tf.float32,\\\n",
    "                              initializer=tf.constant_initializer(0), trainable=False)\n",
    "    for i in range(nrof_classes):\n",
    "        for j in range(nrof_classes):\n",
    "            if i!=j:\n",
    "                diff2 = tf.scatter_add(diff2, i,\n",
    "                                       (tf.gather(centers, i) / tf.sqrt(\n",
    "                                           tf.reduce_sum(tf.square(tf.gather(centers, i)))) * tf.sqrt(\n",
    "                                           tf.reduce_sum(tf.square(tf.gather(centers, j)))))\n",
    "                                       - tf.multiply(\n",
    "                                           (tf.reduce_sum(\n",
    "                                               tf.multiply(tf.gather(centers, i), tf.gather(centers, j))) / tf.sqrt(\n",
    "                                               tf.reduce_sum(tf.square(tf.gather(centers, i)))) *\n",
    "                                            tf.pow(tf.sqrt(tf.reduce_sum(tf.square(tf.gather(centers, j)))), 3)),\n",
    "                                           tf.gather(centers, j)))\n",
    "    diff2 = diff2 * lamda1 / (nrof_classes - 1)\n",
    "    diff2 = alpha * diff2\n",
    "\n",
    "    # 求center loss，这里是将l2_loss里面的值进行平方相加，再除以2，并没有进行开方\n",
    "    loss1 = tf.nn.l2_loss(features - centers_batch)\n",
    "\n",
    "    # 求island loss\n",
    "    loss2 = tf.zeros(1)\n",
    "    for i in range(nrof_classes):\n",
    "        for j in range(nrof_classes):\n",
    "            if i!=j:\n",
    "                loss2 = tf.add(tf.add(tf.reduce_sum(tf.multiply(tf.gather(centers, i), tf.gather(centers, j))) / (\n",
    "                        tf.sqrt(tf.reduce_sum(tf.square(tf.gather(centers, i)))) *\n",
    "                        tf.sqrt(tf.reduce_sum(tf.square(tf.gather(centers, j))))), tf.ones(1)), loss2)\n",
    "    loss2 = lamda1 * loss2\n",
    "\n",
    "    loss = tf.add(loss1,loss2)\n",
    "\n",
    "    # 更新center，输出是将对应于label的centers减去对应的diff，如果同一个标签出现多次，那么就减去多次(diff1与centers维度不同)\n",
    "    centers = tf.scatter_sub(centers, label, diff1)\n",
    "    # diff2维度与centers相同可以直接减\n",
    "    centers = tf.subtract(centers, diff2)\n",
    "\n",
    "    return loss, centers"
   ]
  },
  {
   "cell_type": "code",
   "execution_count": 5,
   "metadata": {},
   "outputs": [
    {
     "name": "stdout",
     "output_type": "stream",
     "text": [
      "[epoch:1/6, steps:468/468] -loss: nan - acc: 65.68%  [validate:78/78] -loss: 14.3967 - acc: 81.41%      \n",
      "\n",
      "[epoch:2/6, steps:468/468] -loss: 14.0710 - acc: 94.61%  [validate:78/78] -loss: 13.8294 - acc: 98.86%      \n",
      "\n",
      "[epoch:3/6, steps:468/468] -loss: 13.7889 - acc: 98.89%  [validate:78/78] -loss: 13.7253 - acc: 99.11%      \n",
      "\n",
      "[epoch:4/6, steps:468/468] -loss: 13.7089 - acc: 99.17%  [validate:78/78] -loss: 13.6985 - acc: 99.22%      \n",
      "\n",
      "[epoch:5/6, steps:468/468] -loss: 13.6642 - acc: 99.32%  [validate:78/78] -loss: 13.6272 - acc: 99.31%      \n",
      "\n",
      "[epoch:6/6, steps:468/468] -loss: 13.6316 - acc: 99.43%  [validate:78/78] -loss: 13.6182 - acc: 99.29%      \n",
      "\n"
     ]
    }
   ],
   "source": [
    "# training graph\n",
    "import numpy as np\n",
    "# cal loss\n",
    "preds,features = VGG6(inputs_reshaped, return_feature=True)\n",
    "softmax_loss = tf.reduce_mean(tf.nn.softmax_cross_entropy_with_logits(logits=preds, labels=y_onehot))\n",
    "island_loss, update_centers = island_loss(features, y, 0.5, n_class, n_feature)\n",
    "loss = tf.reduce_mean(softmax_loss + 0.01 * island_loss)\n",
    "\n",
    "# cal acc\n",
    "result = tf.argmax(preds,1)\n",
    "ground_truth = tf.reshape(y, [-1])\n",
    "correct_prediction = tf.equal(result, ground_truth)\n",
    "accuracy = tf.reduce_mean(tf.cast(correct_prediction, tf.float32))\n",
    "\n",
    "# train\n",
    "train_step = tf.train.AdamOptimizer(1e-4).minimize(loss)\n",
    "\n",
    "n_epochs=6\n",
    "batch_size=128\n",
    "n_batch = int(X_train.shape[0] / batch_size)\n",
    "n_batch_val = int(X_test.shape[0] / batch_size)\n",
    "sess.run(tf.global_variables_initializer())\n",
    "for epoch in range(n_epochs):\n",
    "    # training step\n",
    "    index=np.arange(X_train.shape[0])\n",
    "    np.random.shuffle(index)\n",
    "    X_train=X_train[index,:]\n",
    "    y_train=y_train[index]\n",
    "    sum_loss=0\n",
    "    sum_acc=0\n",
    "    last_train_str=\"\"\n",
    "    for i in range(n_batch):\n",
    "        x_temp=X_train[i*batch_size:(i+1)*batch_size,:]\n",
    "        y_temp=y_train[i*batch_size:(i+1)*batch_size]\n",
    "        y_temp=np.reshape(y_temp,(batch_size,1))\n",
    "        feed_dict = {inputs: x_temp, y: y_temp}\n",
    "        _,_,loss_value,acc_value=sess.run([train_step, update_centers, loss, accuracy], feed_dict=feed_dict)\n",
    "        sum_loss+=loss_value\n",
    "        sum_acc+=(acc_value*100)\n",
    "        last_train_str = \"\\r[epoch:%d/%d, steps:%d/%d] -loss: %.4f - acc: %.2f%%\" % \\\n",
    "              (epoch+1, n_epochs, i+1, n_batch, sum_loss/(i+1), sum_acc/(i+1))\n",
    "        print(last_train_str, end='      ', flush=True)\n",
    "    \n",
    "    # validating step\n",
    "    sum_loss=0\n",
    "    sum_acc=0\n",
    "    for i in range(n_batch_val):\n",
    "        x_temp=X_test[i*batch_size:(i+1)*batch_size,:]\n",
    "        y_temp=y_test[i*batch_size:(i+1)*batch_size]\n",
    "        y_temp=np.reshape(y_temp,(batch_size,1))\n",
    "        feed_dict = {inputs: x_temp, y: y_temp}\n",
    "        loss_value,acc_value=sess.run([loss, accuracy], feed_dict=feed_dict)\n",
    "        sum_loss+=loss_value\n",
    "        sum_acc+=(acc_value*100)\n",
    "        print(last_train_str+\"  [validate:%d/%d] -loss: %.4f - acc: %.2f%%\" % \\\n",
    "              (i+1, n_batch_val, sum_loss/(i+1), sum_acc/(i+1)), end='      ', flush=True)\n",
    "    print('\\n')"
   ]
  },
  {
   "cell_type": "code",
   "execution_count": 7,
   "metadata": {},
   "outputs": [
    {
     "name": "stdout",
     "output_type": "stream",
     "text": [
      "[feature extracting:5/5]      (640, 512)\n",
      "(640, 2)\n"
     ]
    },
    {
     "data": {
      "image/png": "[encoded data removed]",
      "text/plain": [
       "<matplotlib.figure.Figure at 0x13e6e9c88>"
      ]
     },
     "metadata": {},
     "output_type": "display_data"
    }
   ],
   "source": [
    "# crossentropy_loss 获取倒数第二层的特征 98.47%\n",
    "index=np.arange(X_train.shape[0])\n",
    "X_draw=X_train[index[0:640],:]\n",
    "y_draw=y_train[index[0:640]]\n",
    "mid_features=[]\n",
    "n_batch=int(640/batch_size)\n",
    "for i in range(n_batch):\n",
    "    x_temp=X_draw[i*batch_size:(i+1)*batch_size,:]\n",
    "    mid_feature_temp=sess.run([features], feed_dict={inputs:x_temp})\n",
    "    mid_features.append(mid_feature_temp[0])\n",
    "    print(\"\\r[feature extracting:%d/%d]\" % (i+1, n_batch), end='      ', flush=True)\n",
    "mid_features=np.concatenate(mid_features, axis=0)\n",
    "print(mid_features.shape)\n",
    "\n",
    "#crossentropy_loss\n",
    "from sklearn.manifold import TSNE\n",
    "tsne=TSNE(n_components=2)\n",
    "mid_features=tsne.fit_transform(mid_features)  #进行数据降维,降成两维\n",
    "print(mid_features.shape)\n",
    "from matplotlib import pyplot as plt\n",
    "plt.scatter(x=mid_features[:,0],y=mid_features[:,1],c=y_draw)\n",
    "plt.show()"
   ]
  },
  {
   "cell_type": "code",
   "execution_count": 12,
   "metadata": {},
   "outputs": [
    {
     "name": "stdout",
     "output_type": "stream",
     "text": [
      "[feature extracting:5/5]      (640, 512)\n",
      "(640, 2)\n"
     ]
    },
    {
     "data": {
      "image/png": "[encoded data removed]",
      "text/plain": [
       "<matplotlib.figure.Figure at 0x13fc4cd68>"
      ]
     },
     "metadata": {},
     "output_type": "display_data"
    }
   ],
   "source": [
    "# center_loss 获取倒数第二层的特征 99.30%\n",
    "index=np.arange(X_train.shape[0])\n",
    "X_draw=X_train[index[0:640],:]\n",
    "y_draw=y_train[index[0:640]]\n",
    "mid_features=[]\n",
    "n_batch=int(640/batch_size)\n",
    "for i in range(n_batch):\n",
    "    x_temp=X_draw[i*batch_size:(i+1)*batch_size,:]\n",
    "    mid_feature_temp=sess.run([features], feed_dict={inputs:x_temp})\n",
    "    mid_features.append(mid_feature_temp[0])\n",
    "    print(\"\\r[feature extracting:%d/%d]\" % (i+1, n_batch), end='      ', flush=True)\n",
    "mid_features=np.concatenate(mid_features, axis=0)\n",
    "print(mid_features.shape)\n",
    "\n",
    "#crossentropy_loss\n",
    "from sklearn.manifold import TSNE\n",
    "tsne=TSNE(n_components=2)\n",
    "mid_features=tsne.fit_transform(mid_features)  #进行数据降维,降成两维\n",
    "print(mid_features.shape)\n",
    "from matplotlib import pyplot as plt\n",
    "plt.scatter(x=mid_features[:,0],y=mid_features[:,1],c=y_draw)\n",
    "plt.show()"
   ]
  },
  {
   "cell_type": "code",
   "execution_count": 6,
   "metadata": {},
   "outputs": [
    {
     "name": "stdout",
     "output_type": "stream",
     "text": [
      "[feature extracting:5/5]      (640, 512)\n",
      "(640, 2)\n"
     ]
    },
    {
     "data": {
      "image/png": "[encoded data removed]",
      "text/plain": [
       "<matplotlib.figure.Figure at 0x1432ab160>"
      ]
     },
     "metadata": {},
     "output_type": "display_data"
    }
   ],
   "source": [
    "# island_loss 获取倒数第二层的特征 99.29%\n",
    "index=np.arange(X_train.shape[0])\n",
    "X_draw=X_train[index[0:640],:]\n",
    "y_draw=y_train[index[0:640]]\n",
    "mid_features=[]\n",
    "n_batch=int(640/batch_size)\n",
    "for i in range(n_batch):\n",
    "    x_temp=X_draw[i*batch_size:(i+1)*batch_size,:]\n",
    "    mid_feature_temp=sess.run([features], feed_dict={inputs:x_temp})\n",
    "    mid_features.append(mid_feature_temp[0])\n",
    "    print(\"\\r[feature extracting:%d/%d]\" % (i+1, n_batch), end='      ', flush=True)\n",
    "mid_features=np.concatenate(mid_features, axis=0)\n",
    "print(mid_features.shape)\n",
    "\n",
    "#crossentropy_loss\n",
    "from sklearn.manifold import TSNE\n",
    "tsne=TSNE(n_components=2)\n",
    "mid_features=tsne.fit_transform(mid_features)  #进行数据降维,降成两维\n",
    "print(mid_features.shape)\n",
    "from matplotlib import pyplot as plt\n",
    "plt.scatter(x=mid_features[:,0],y=mid_features[:,1],c=y_draw)\n",
    "plt.show()"
   ]
  },
  {
   "cell_type": "code",
   "execution_count": null,
   "metadata": {
    "collapsed": true
   },
   "outputs": [],
   "source": []
  }
 ],
 "metadata": {
  "kernelspec": {
   "display_name": "Python 3",
   "language": "python",
   "name": "python3"
  },
  "language_info": {
   "codemirror_mode": {
    "name": "ipython",
    "version": 3
   },
   "file_extension": ".py",
   "mimetype": "text/x-python",
   "name": "python",
   "nbconvert_exporter": "python",
   "pygments_lexer": "ipython3",
   "version": "3.6.3"
  }
 },
 "nbformat": 4,
 "nbformat_minor": 1
}
